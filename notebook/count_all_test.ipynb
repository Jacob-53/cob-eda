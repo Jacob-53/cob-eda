{
 "cells": [
  {
   "cell_type": "code",
   "execution_count": 1,
   "id": "d048ce89-233c-4c49-8495-7ef406755969",
   "metadata": {},
   "outputs": [],
   "source": [
    "from president_speech.db.parquet_interpreter import get_parquet_full_path\n",
    "import pandas as pd"
   ]
  },
  {
   "cell_type": "code",
   "execution_count": 2,
   "id": "f9ac67cb-21a0-45d6-b637-2c33d9800778",
   "metadata": {},
   "outputs": [],
   "source": [
    "keyword = \"자유\"\n",
    "asc = False"
   ]
  },
  {
   "cell_type": "code",
   "execution_count": 3,
   "id": "a663d144-947b-44b3-a9b7-2037e55c6a31",
   "metadata": {},
   "outputs": [],
   "source": [
    "data_path = get_parquet_full_path()"
   ]
  },
  {
   "cell_type": "code",
   "execution_count": 16,
   "id": "470c5cf4-da8b-4d1b-adfb-de770248f180",
   "metadata": {},
   "outputs": [],
   "source": [
    "df = pd.read_parquet(data_path) "
   ]
  },
  {
   "cell_type": "code",
   "execution_count": 5,
   "id": "7c280a90-a9b8-42f6-8e9a-e10d0e9d5546",
   "metadata": {},
   "outputs": [],
   "source": [
    "fdf = df[df['speech_text'].str.contains(keyword, case=False)]"
   ]
  },
  {
   "cell_type": "code",
   "execution_count": 17,
   "id": "35e3269c-8046-4dd8-8753-65abcfc7c59a",
   "metadata": {},
   "outputs": [
    {
     "name": "stdout",
     "output_type": "stream",
     "text": [
      "        division_number president                title        date location  \\\n",
      "5368            1305368       박정희  제5대 대통령 취임식 대통령 취임사  1963.12.17       국내   \n",
      "5374            1305374       박정희       1964년 대통령 연두교서  1964.01.10       국내   \n",
      "5375            1305375       박정희  자유의 날 10주년에 즈음한 메시지  1964.01.23       국내   \n",
      "5377            1305377       박정희        제45회 3·1절 경축사  1964.03.01       국내   \n",
      "5379            1305379       박정희      한·일회담에 관한 특별담화문  1964.03.26       국내   \n",
      "...                 ...       ...                  ...         ...      ...   \n",
      "102534          1401934       문재인        제74주년 광복절 경축사  2019.08.15       국내   \n",
      "102535          1401935       문재인      제74차 유엔 총회 기조연설  2019.09.24       국내   \n",
      "102546          1401946       문재인            제37회 국무회의  2020.07.21       국내   \n",
      "102550          1401950       문재인             수석·보좌관회의  2020.08.24       국내   \n",
      "102556          1401956       문재인            제48회 국무회의  2020.09.22       국내   \n",
      "\n",
      "          kind                                        speech_text  \n",
      "5368       취임사  \\n\\n\\n단군성조가 천혜의 이 강토 위에 국기를 닦으신지 반만년, 연면히 이어온 ...  \n",
      "5374      국회연설  존경하는 국회의장, 그리고 국회의원 여러분! \\n\\n\\n국회가 개원된 이래 난국타개...  \n",
      "5375       기념사  친애하는 반공애국청년 여러분! 그리고 사랑하는 동포 여러분! 오늘 「자유의 날」 제...  \n",
      "5377       기념사  오늘 뜻 깊은 제45회 3.1절을 맞이하여 선열의 영혼이 지켜보는 가운데 기념식전을...  \n",
      "5379    성명/담화문  친애하는 국민 여러분! \\n\\n\\n지난 며칠 동안 한, 일회담문제로 일부 학생들이 ...  \n",
      "...        ...                                                ...  \n",
      "102534     기념사  존경하는 국민 여러분,독립유공자와 유가족 여러분,재외ㆍ해외동포 여러분,3.1독립운동...  \n",
      "102535  성명/담화문  유엔과 회원국들의 헌신으로 세계의 많은 문제들이 해결되고, 평화를위한 노력들이 결실...  \n",
      "102546      회의  한국판 뉴딜은 국내 공간적으로는 수도권 중심에서 지역 중심으로 국가발전의 축을 이동...  \n",
      "102550      회의  국민 여러분, 코로나19가 발생한 이후 우리나라에서는 지금이 최대의 위기입니다. 우...  \n",
      "102556      회의  코로나19 재확산의 중대 고비를 온 국민이 힘을 모아 이겨내고 있습니다. 일일 국내...  \n",
      "\n",
      "[3064 rows x 7 columns]\n"
     ]
    }
   ],
   "source": [
    "print(fdf)"
   ]
  },
  {
   "cell_type": "code",
   "execution_count": 24,
   "id": "17b2af87-cadf-462d-8652-c2303e359220",
   "metadata": {},
   "outputs": [],
   "source": [
    "gdf = fdf.groupby(\"president\").size().reset_index(name=\"count\")"
   ]
  },
  {
   "cell_type": "code",
   "execution_count": 25,
   "id": "513036e0-2232-4f89-b01d-897c179bbbcb",
   "metadata": {},
   "outputs": [
    {
     "name": "stdout",
     "output_type": "stream",
     "text": [
      "   president  count\n",
      "0        김대중    305\n",
      "1        김영삼    274\n",
      "2        노무현    230\n",
      "3        노태우    399\n",
      "4        문재인    275\n",
      "5        박근혜    111\n",
      "6        박정희    513\n",
      "7        윤보선      1\n",
      "8        이명박    262\n",
      "9        이승만    438\n",
      "10       전두환    242\n",
      "11       최규하     14\n"
     ]
    }
   ],
   "source": [
    "print(gdf)"
   ]
  },
  {
   "cell_type": "code",
   "execution_count": 7,
   "id": "da2fef45-d8c2-43c5-bee0-fe5a5c716e60",
   "metadata": {},
   "outputs": [],
   "source": [
    "sdf = gdf.sort_values(by='count', ascending=asc).reset_index(drop=True)"
   ]
  },
  {
   "cell_type": "code",
   "execution_count": 8,
   "id": "57be9bb1-c8c1-4092-904a-9925fb369cb8",
   "metadata": {},
   "outputs": [
    {
     "data": {
      "text/html": [
       "<div>\n",
       "<style scoped>\n",
       "    .dataframe tbody tr th:only-of-type {\n",
       "        vertical-align: middle;\n",
       "    }\n",
       "\n",
       "    .dataframe tbody tr th {\n",
       "        vertical-align: top;\n",
       "    }\n",
       "\n",
       "    .dataframe thead th {\n",
       "        text-align: right;\n",
       "    }\n",
       "</style>\n",
       "<table border=\"1\" class=\"dataframe\">\n",
       "  <thead>\n",
       "    <tr style=\"text-align: right;\">\n",
       "      <th></th>\n",
       "      <th>president</th>\n",
       "      <th>count</th>\n",
       "    </tr>\n",
       "  </thead>\n",
       "  <tbody>\n",
       "    <tr>\n",
       "      <th>0</th>\n",
       "      <td>박정희</td>\n",
       "      <td>513</td>\n",
       "    </tr>\n",
       "    <tr>\n",
       "      <th>1</th>\n",
       "      <td>이승만</td>\n",
       "      <td>438</td>\n",
       "    </tr>\n",
       "    <tr>\n",
       "      <th>2</th>\n",
       "      <td>노태우</td>\n",
       "      <td>399</td>\n",
       "    </tr>\n",
       "    <tr>\n",
       "      <th>3</th>\n",
       "      <td>김대중</td>\n",
       "      <td>305</td>\n",
       "    </tr>\n",
       "    <tr>\n",
       "      <th>4</th>\n",
       "      <td>문재인</td>\n",
       "      <td>275</td>\n",
       "    </tr>\n",
       "    <tr>\n",
       "      <th>5</th>\n",
       "      <td>김영삼</td>\n",
       "      <td>274</td>\n",
       "    </tr>\n",
       "    <tr>\n",
       "      <th>6</th>\n",
       "      <td>이명박</td>\n",
       "      <td>262</td>\n",
       "    </tr>\n",
       "    <tr>\n",
       "      <th>7</th>\n",
       "      <td>전두환</td>\n",
       "      <td>242</td>\n",
       "    </tr>\n",
       "    <tr>\n",
       "      <th>8</th>\n",
       "      <td>노무현</td>\n",
       "      <td>230</td>\n",
       "    </tr>\n",
       "    <tr>\n",
       "      <th>9</th>\n",
       "      <td>박근혜</td>\n",
       "      <td>111</td>\n",
       "    </tr>\n",
       "    <tr>\n",
       "      <th>10</th>\n",
       "      <td>최규하</td>\n",
       "      <td>14</td>\n",
       "    </tr>\n",
       "    <tr>\n",
       "      <th>11</th>\n",
       "      <td>윤보선</td>\n",
       "      <td>1</td>\n",
       "    </tr>\n",
       "  </tbody>\n",
       "</table>\n",
       "</div>"
      ],
      "text/plain": [
       "   president  count\n",
       "0        박정희    513\n",
       "1        이승만    438\n",
       "2        노태우    399\n",
       "3        김대중    305\n",
       "4        문재인    275\n",
       "5        김영삼    274\n",
       "6        이명박    262\n",
       "7        전두환    242\n",
       "8        노무현    230\n",
       "9        박근혜    111\n",
       "10       최규하     14\n",
       "11       윤보선      1"
      ]
     },
     "execution_count": 8,
     "metadata": {},
     "output_type": "execute_result"
    }
   ],
   "source": [
    "sdf"
   ]
  },
  {
   "cell_type": "code",
   "execution_count": 9,
   "id": "771efd1c-8ee5-4b2d-85da-07b24d90d42f",
   "metadata": {},
   "outputs": [],
   "source": [
    "presidents_speeches = {\n",
    "    \"박정희\": 513,\n",
    "    \"이승만\": 438,\n",
    "    \"노태우\": 399,\n",
    "    \"김대중\": 305,\n",
    "    \"문재인\": 275,\n",
    "    \"김영삼\": 274,\n",
    "    \"이명박\": 262,\n",
    "    \"전두환\": 242,\n",
    "    \"노무현\": 230,\n",
    "    \"박근혜\": 111,\n",
    "    \"최규하\": 14,\n",
    "    \"윤보선\": 1\n",
    "}"
   ]
  },
  {
   "cell_type": "code",
   "execution_count": 15,
   "id": "fbf089f5-a9a0-42d0-9999-a7591417e6ba",
   "metadata": {},
   "outputs": [
    {
     "name": "stdout",
     "output_type": "stream",
     "text": [
      "박정희 : 513\n",
      "이승만 : 438\n",
      "노태우 : 399\n",
      "김대중 : 305\n",
      "문재인 : 275\n",
      "김영삼 : 274\n",
      "이명박 : 262\n",
      "전두환 : 242\n",
      "노무현 : 230\n",
      "박근혜 : 111\n",
      "최규하 : 14\n",
      "윤보선 : 1\n"
     ]
    }
   ],
   "source": [
    "for _,(i,v) in enumerate(presidents_speeches.items()):\n",
    "    print(f\"{i} : {v}\")"
   ]
  },
  {
   "cell_type": "code",
   "execution_count": null,
   "id": "90aed6c1-b896-4c30-b0a7-8c9fbe8ef957",
   "metadata": {},
   "outputs": [],
   "source": []
  }
 ],
 "metadata": {
  "kernelspec": {
   "display_name": "Python 3 (ipykernel)",
   "language": "python",
   "name": "python3"
  },
  "language_info": {
   "codemirror_mode": {
    "name": "ipython",
    "version": 3
   },
   "file_extension": ".py",
   "mimetype": "text/x-python",
   "name": "python",
   "nbconvert_exporter": "python",
   "pygments_lexer": "ipython3",
   "version": "3.10.12"
  }
 },
 "nbformat": 4,
 "nbformat_minor": 5
}
