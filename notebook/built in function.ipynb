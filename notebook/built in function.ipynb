{
 "cells": [
  {
   "cell_type": "markdown",
   "id": "0cf50d10-872c-48b5-a17c-a6bcf41d15c0",
   "metadata": {},
   "source": [
    "# 숙제"
   ]
  },
  {
   "cell_type": "markdown",
   "id": "dd4b3726-5d2e-44b5-9138-248003113102",
   "metadata": {},
   "source": [
    "### 내장함수 모든것 연습 해봐야 알고 해봐야 실력이 향상"
   ]
  },
  {
   "cell_type": "code",
   "execution_count": null,
   "id": "c99d3db8-7512-4662-bc60-afc0385656ea",
   "metadata": {},
   "outputs": [],
   "source": []
  }
 ],
 "metadata": {
  "kernelspec": {
   "display_name": "Python 3 (ipykernel)",
   "language": "python",
   "name": "python3"
  },
  "language_info": {
   "codemirror_mode": {
    "name": "ipython",
    "version": 3
   },
   "file_extension": ".py",
   "mimetype": "text/x-python",
   "name": "python",
   "nbconvert_exporter": "python",
   "pygments_lexer": "ipython3",
   "version": "3.10.12"
  }
 },
 "nbformat": 4,
 "nbformat_minor": 5
}
