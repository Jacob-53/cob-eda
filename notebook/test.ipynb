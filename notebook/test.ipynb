{
 "cells": [
  {
   "cell_type": "code",
   "execution_count": 5,
   "id": "2679375f-6e49-4916-9ef9-b779bca9cd58",
   "metadata": {},
   "outputs": [],
   "source": [
    "from president_speech.db.parquet_interpreter import read_parquet, get_parquet_full_path"
   ]
  },
  {
   "cell_type": "code",
   "execution_count": 6,
   "id": "4c0488a0-cdc2-4a8c-a4c9-90f3dcb6a3e9",
   "metadata": {},
   "outputs": [],
   "source": [
    "import pandas as pd"
   ]
  },
  {
   "cell_type": "code",
   "execution_count": 7,
   "id": "bbc824bb-1198-44a7-9a31-71ef49894750",
   "metadata": {},
   "outputs": [],
   "source": [
    "import typer"
   ]
  },
  {
   "cell_type": "code",
   "execution_count": 9,
   "id": "4937a913-c05c-4bb8-8705-2de1d026d526",
   "metadata": {},
   "outputs": [
    {
     "data": {
      "text/html": [
       "<pre style=\"white-space:pre;overflow-x:auto;line-height:normal;font-family:Menlo,'DejaVu Sans Mono',consolas,'Courier New',monospace\"><span style=\"color: #808000; text-decoration-color: #808000\">Usage: </span>ipykernel_launcher.py [OPTIONS] KEYWORD\n",
       "</pre>\n"
      ],
      "text/plain": [
       "\u001b[33mUsage: \u001b[0mipykernel_launcher.py [OPTIONS] KEYWORD\n"
      ]
     },
     "metadata": {},
     "output_type": "display_data"
    },
    {
     "data": {
      "text/html": [
       "<pre style=\"white-space:pre;overflow-x:auto;line-height:normal;font-family:Menlo,'DejaVu Sans Mono',consolas,'Courier New',monospace\"><span style=\"color: #7f7f7f; text-decoration-color: #7f7f7f\">Try </span><span style=\"color: #7f7fbf; text-decoration-color: #7f7fbf\">'ipykernel_launcher.py </span><span style=\"color: #7f7fbf; text-decoration-color: #7f7fbf; font-weight: bold\">--help</span><span style=\"color: #7f7fbf; text-decoration-color: #7f7fbf\">'</span><span style=\"color: #7f7f7f; text-decoration-color: #7f7f7f\"> for help.</span>\n",
       "</pre>\n"
      ],
      "text/plain": [
       "\u001b[2mTry \u001b[0m\u001b[2;34m'ipykernel_launcher.py \u001b[0m\u001b[1;2;34m-\u001b[0m\u001b[1;2;34m-help\u001b[0m\u001b[2;34m'\u001b[0m\u001b[2m for help.\u001b[0m\n"
      ]
     },
     "metadata": {},
     "output_type": "display_data"
    },
    {
     "data": {
      "text/html": [
       "<pre style=\"white-space:pre;overflow-x:auto;line-height:normal;font-family:Menlo,'DejaVu Sans Mono',consolas,'Courier New',monospace\"><span style=\"color: #800000; text-decoration-color: #800000\">╭─ Error ─────────────────────────────────────────────────────────────────────────────────────────────────────────╮</span>\n",
       "<span style=\"color: #800000; text-decoration-color: #800000\">│</span> No such option: <span style=\"color: #008000; text-decoration-color: #008000; font-weight: bold\">-f</span>                                                                                              <span style=\"color: #800000; text-decoration-color: #800000\">│</span>\n",
       "<span style=\"color: #800000; text-decoration-color: #800000\">╰─────────────────────────────────────────────────────────────────────────────────────────────────────────────────╯</span>\n",
       "</pre>\n"
      ],
      "text/plain": [
       "\u001b[31m╭─\u001b[0m\u001b[31m Error \u001b[0m\u001b[31m────────────────────────────────────────────────────────────────────────────────────────────────────────\u001b[0m\u001b[31m─╮\u001b[0m\n",
       "\u001b[31m│\u001b[0m No such option: \u001b[1;32m-f\u001b[0m                                                                                              \u001b[31m│\u001b[0m\n",
       "\u001b[31m╰─────────────────────────────────────────────────────────────────────────────────────────────────────────────────╯\u001b[0m\n"
      ]
     },
     "metadata": {},
     "output_type": "display_data"
    },
    {
     "ename": "SystemExit",
     "evalue": "2",
     "output_type": "error",
     "traceback": [
      "An exception has occurred, use %tb to see the full traceback.\n",
      "\u001b[0;31mSystemExit\u001b[0m\u001b[0;31m:\u001b[0m 2\n"
     ]
    }
   ],
   "source": [
    "app = typer.Typer()\n",
    "@app.command()    \n",
    "def psearch_by_count(keyword: str ):\n",
    "    data_path = get_parquet_full_path()\n",
    "    df = pd.read_parquet(data_path)\n",
    "    f_df = df[df['speech_text'].str.contains(str(keyword), case=False)]\n",
    "    if f_df is True:\n",
    "        pass\n",
    "    else:\n",
    "        typer.echo(f\" '{keyword}'은 언급 되지 않았습니다.\")\n",
    "        keyword = typer.prompt(\"새로운 키워드를 입력하세요\")\n",
    "    rdf = f_df.groupby(\"president\").size().reset_index(name=\"count\").sort_values(by=\"count\", ascending=False)\n",
    "    sdf = rdf.sort_values(by='count', ascending=False).reset_index(drop=True)\n",
    "    print(sdf.to_string(index=False))\n",
    "\n",
    "if __name__ == \"__main__\":\n",
    "    app()\n",
    "    "
   ]
  },
  {
   "cell_type": "code",
   "execution_count": 10,
   "id": "0ddd3535-157f-46bc-abb6-0f92ca86228b",
   "metadata": {},
   "outputs": [
    {
     "ename": "NameError",
     "evalue": "name 'ipykernel_launcher' is not defined",
     "output_type": "error",
     "traceback": [
      "\u001b[0;31m---------------------------------------------------------------------------\u001b[0m",
      "\u001b[0;31mNameError\u001b[0m                                 Traceback (most recent call last)",
      "Cell \u001b[0;32mIn[10], line 1\u001b[0m\n\u001b[0;32m----> 1\u001b[0m \u001b[43mipykernel_launcher\u001b[49m\u001b[38;5;241m.\u001b[39mpy \u001b[38;5;241m-\u001b[39m\u001b[38;5;241m-\u001b[39mhelp\n",
      "\u001b[0;31mNameError\u001b[0m: name 'ipykernel_launcher' is not defined"
     ]
    }
   ],
   "source": [
    "ipykernel_launcher.py --help"
   ]
  },
  {
   "cell_type": "code",
   "execution_count": null,
   "id": "2c6dfd39-649f-4120-b5b5-39bb18066f51",
   "metadata": {},
   "outputs": [],
   "source": []
  }
 ],
 "metadata": {
  "kernelspec": {
   "display_name": "Python 3 (ipykernel)",
   "language": "python",
   "name": "python3"
  },
  "language_info": {
   "codemirror_mode": {
    "name": "ipython",
    "version": 3
   },
   "file_extension": ".py",
   "mimetype": "text/x-python",
   "name": "python",
   "nbconvert_exporter": "python",
   "pygments_lexer": "ipython3",
   "version": "3.10.12"
  }
 },
 "nbformat": 4,
 "nbformat_minor": 5
}
